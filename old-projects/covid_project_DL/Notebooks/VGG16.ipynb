{
 "cells": [
  {
   "cell_type": "markdown",
   "metadata": {},
   "source": [
    "# RESEAU"
   ]
  },
  {
   "cell_type": "code",
   "execution_count": 1,
   "metadata": {},
   "outputs": [],
   "source": [
    "import tensorflow as tf\n",
    "from sklearn.model_selection import train_test_split\n",
    "from tensorflow.keras.preprocessing.image import ImageDataGenerator\n",
    "from tensorflow.keras.utils import to_categorical\n",
    "import matplotlib.pyplot as plt"
   ]
  },
  {
   "cell_type": "code",
   "execution_count": 2,
   "metadata": {},
   "outputs": [
    {
     "name": "stderr",
     "output_type": "stream",
     "text": [
      "Using TensorFlow backend.\n"
     ]
    }
   ],
   "source": [
    "from keras.applications import VGG16\n",
    "from tensorflow.keras.layers import Dense, AveragePooling2D, Flatten, Dropout, Input\n",
    "from tensorflow.keras.optimizers import Adam\n",
    "from tensorflow.keras.models import Model, Sequential"
   ]
  },
  {
   "cell_type": "code",
   "execution_count": 3,
   "metadata": {},
   "outputs": [],
   "source": [
    "import os\n",
    "import pandas as pd\n",
    "import numpy as np\n",
    "import tensorflow as tf\n",
    "from sklearn.model_selection import train_test_split\n",
    "from keras.preprocessing.image import ImageDataGenerator\n",
    "from keras.models import Sequential\n",
    "from keras import layers\n",
    "from keras.layers import Conv2D, AveragePooling2D, Dropout, Flatten, Dense, Activation, Input\n",
    "from keras import applications\n",
    "from keras.preprocessing.image import ImageDataGenerator\n",
    "from keras import optimizers\n",
    "from keras.applications.vgg16 import VGG16\n",
    "from keras.models import Model\n",
    "from tensorflow.keras.utils import to_categorical\n",
    "import matplotlib.pyplot as plt\n",
    "from tensorflow.keras.optimizers import Adam\n",
    "\n"
   ]
  },
  {
   "cell_type": "code",
   "execution_count": 4,
   "metadata": {},
   "outputs": [],
   "source": [
    "X, y = np.load(\"X.npy\"), np.load(\"Y.npy\")"
   ]
  },
  {
   "cell_type": "code",
   "execution_count": 5,
   "metadata": {},
   "outputs": [],
   "source": [
    "y = np.array(to_categorical(y,2))"
   ]
  },
  {
   "cell_type": "code",
   "execution_count": 6,
   "metadata": {},
   "outputs": [],
   "source": [
    "Xtrain, Xtest, ytrain, ytest = train_test_split(X, y, test_size=0.3, random_state=42)"
   ]
  },
  {
   "cell_type": "code",
   "execution_count": 7,
   "metadata": {},
   "outputs": [],
   "source": [
    "Xtest, Xvalid, ytest, yvalid = train_test_split(Xtest,ytest, test_size = 0.5)"
   ]
  },
  {
   "cell_type": "code",
   "execution_count": 8,
   "metadata": {},
   "outputs": [
    {
     "name": "stdout",
     "output_type": "stream",
     "text": [
      "(205, 224, 224, 3)\n"
     ]
    }
   ],
   "source": [
    "print(Xtrain.shape)"
   ]
  },
  {
   "cell_type": "code",
   "execution_count": 9,
   "metadata": {},
   "outputs": [],
   "source": [
    "#load the VGG16 network, ensuring the head FC layer sets are left\n",
    "baseModel = VGG16 (weights='imagenet',  \n",
    "            input_shape=(224, 224, 3),\n",
    "           include_top=False)\n",
    "#loop over all layers in the base model and freeze them so they will *not* be updated during the first training process.\n",
    "for layer in baseModel.layers:\n",
    "    layer.trainable = False"
   ]
  },
  {
   "cell_type": "code",
   "execution_count": 10,
   "metadata": {},
   "outputs": [],
   "source": [
    "#construct the head of the model that will be placed on top of the base model \n",
    "headModel=baseModel.output\n",
    "headModel=AveragePooling2D(pool_size=(4,4)) (headModel)\n",
    "headModel=Flatten(name=\"flatten\")(headModel)\n",
    "headModel=Dense(64, activation =\"relu\")(headModel)\n",
    "headModel=Dropout(0.5)(headModel)\n",
    "headModel=Dense(2, activation=\"softmax\")(headModel)#softmax ou sigmoid"
   ]
  },
  {
   "cell_type": "code",
   "execution_count": 11,
   "metadata": {},
   "outputs": [
    {
     "name": "stdout",
     "output_type": "stream",
     "text": [
      "Model: \"model_1\"\n",
      "_________________________________________________________________\n",
      "Layer (type)                 Output Shape              Param #   \n",
      "=================================================================\n",
      "input_1 (InputLayer)         (None, 224, 224, 3)       0         \n",
      "_________________________________________________________________\n",
      "block1_conv1 (Conv2D)        (None, 224, 224, 64)      1792      \n",
      "_________________________________________________________________\n",
      "block1_conv2 (Conv2D)        (None, 224, 224, 64)      36928     \n",
      "_________________________________________________________________\n",
      "block1_pool (MaxPooling2D)   (None, 112, 112, 64)      0         \n",
      "_________________________________________________________________\n",
      "block2_conv1 (Conv2D)        (None, 112, 112, 128)     73856     \n",
      "_________________________________________________________________\n",
      "block2_conv2 (Conv2D)        (None, 112, 112, 128)     147584    \n",
      "_________________________________________________________________\n",
      "block2_pool (MaxPooling2D)   (None, 56, 56, 128)       0         \n",
      "_________________________________________________________________\n",
      "block3_conv1 (Conv2D)        (None, 56, 56, 256)       295168    \n",
      "_________________________________________________________________\n",
      "block3_conv2 (Conv2D)        (None, 56, 56, 256)       590080    \n",
      "_________________________________________________________________\n",
      "block3_conv3 (Conv2D)        (None, 56, 56, 256)       590080    \n",
      "_________________________________________________________________\n",
      "block3_pool (MaxPooling2D)   (None, 28, 28, 256)       0         \n",
      "_________________________________________________________________\n",
      "block4_conv1 (Conv2D)        (None, 28, 28, 512)       1180160   \n",
      "_________________________________________________________________\n",
      "block4_conv2 (Conv2D)        (None, 28, 28, 512)       2359808   \n",
      "_________________________________________________________________\n",
      "block4_conv3 (Conv2D)        (None, 28, 28, 512)       2359808   \n",
      "_________________________________________________________________\n",
      "block4_pool (MaxPooling2D)   (None, 14, 14, 512)       0         \n",
      "_________________________________________________________________\n",
      "block5_conv1 (Conv2D)        (None, 14, 14, 512)       2359808   \n",
      "_________________________________________________________________\n",
      "block5_conv2 (Conv2D)        (None, 14, 14, 512)       2359808   \n",
      "_________________________________________________________________\n",
      "block5_conv3 (Conv2D)        (None, 14, 14, 512)       2359808   \n",
      "_________________________________________________________________\n",
      "block5_pool (MaxPooling2D)   (None, 7, 7, 512)         0         \n",
      "_________________________________________________________________\n",
      "average_pooling2d_1 (Average (None, 1, 1, 512)         0         \n",
      "_________________________________________________________________\n",
      "flatten (Flatten)            (None, 512)               0         \n",
      "_________________________________________________________________\n",
      "dense_1 (Dense)              (None, 64)                32832     \n",
      "_________________________________________________________________\n",
      "dropout_1 (Dropout)          (None, 64)                0         \n",
      "_________________________________________________________________\n",
      "dense_2 (Dense)              (None, 2)                 130       \n",
      "=================================================================\n",
      "Total params: 14,747,650\n",
      "Trainable params: 32,962\n",
      "Non-trainable params: 14,714,688\n",
      "_________________________________________________________________\n"
     ]
    }
   ],
   "source": [
    "#place the head FC model on top of the base model (this will become the actual model we will train)\n",
    "model=Model(inputs=baseModel.input, outputs=headModel)\n",
    "model.summary()"
   ]
  },
  {
   "cell_type": "code",
   "execution_count": 12,
   "metadata": {},
   "outputs": [],
   "source": [
    "#initialize the initial learning rate, batch size, and the optimizer\n",
    "#compile our model \n",
    "opt = Adam(lr=1e-4)\n",
    "model.compile(loss=\"binary_crossentropy\", optimizer = opt, metrics=[\"accuracy\"])#binary_crossentropy car on a 2 classes \n",
    "bs = 4"
   ]
  },
  {
   "cell_type": "code",
   "execution_count": 13,
   "metadata": {},
   "outputs": [],
   "source": [
    "#initialize the training data augmentation object->made the learning more robust\n",
    "datagen = ImageDataGenerator(rotation_range=15,fill_mode =\"nearest\")#rescale?, greyscale\n",
    "train = datagen.flow(Xtrain, ytrain, batch_size = bs)"
   ]
  },
  {
   "cell_type": "code",
   "execution_count": 14,
   "metadata": {},
   "outputs": [
    {
     "name": "stdout",
     "output_type": "stream",
     "text": [
      "Epoch 1/30\n",
      "51/51 [==============================] - 50s 972ms/step - loss: 0.7592 - accuracy: 0.5771 - val_loss: 0.6063 - val_accuracy: 0.9091\n",
      "Epoch 2/30\n",
      "51/51 [==============================] - 57s 1s/step - loss: 0.6336 - accuracy: 0.6219 - val_loss: 0.5332 - val_accuracy: 1.0000\n",
      "Epoch 3/30\n",
      "51/51 [==============================] - 62s 1s/step - loss: 0.5742 - accuracy: 0.6965 - val_loss: 0.4565 - val_accuracy: 1.0000\n",
      "Epoch 4/30\n",
      "51/51 [==============================] - 63s 1s/step - loss: 0.5326 - accuracy: 0.7264 - val_loss: 0.3919 - val_accuracy: 1.0000\n",
      "Epoch 5/30\n",
      "51/51 [==============================] - 55s 1s/step - loss: 0.4424 - accuracy: 0.8431 - val_loss: 0.3460 - val_accuracy: 1.0000\n",
      "Epoch 6/30\n",
      "51/51 [==============================] - 48s 948ms/step - loss: 0.3966 - accuracy: 0.8687 - val_loss: 0.2755 - val_accuracy: 1.0000\n",
      "Epoch 7/30\n",
      "51/51 [==============================] - 52s 1s/step - loss: 0.3472 - accuracy: 0.9118 - val_loss: 0.2389 - val_accuracy: 1.0000\n",
      "Epoch 8/30\n",
      "51/51 [==============================] - 53s 1s/step - loss: 0.2755 - accuracy: 0.9545 - val_loss: 0.2174 - val_accuracy: 1.0000\n",
      "Epoch 9/30\n",
      "51/51 [==============================] - 54s 1s/step - loss: 0.2665 - accuracy: 0.9701 - val_loss: 0.1901 - val_accuracy: 1.0000\n",
      "Epoch 10/30\n",
      "51/51 [==============================] - 51s 991ms/step - loss: 0.2342 - accuracy: 0.9851 - val_loss: 0.1583 - val_accuracy: 1.0000\n",
      "Epoch 11/30\n",
      "51/51 [==============================] - 52s 1s/step - loss: 0.2146 - accuracy: 0.9751 - val_loss: 0.1471 - val_accuracy: 1.0000\n",
      "Epoch 12/30\n",
      "51/51 [==============================] - 51s 996ms/step - loss: 0.1847 - accuracy: 0.9950 - val_loss: 0.1199 - val_accuracy: 1.0000\n",
      "Epoch 13/30\n",
      "51/51 [==============================] - 49s 956ms/step - loss: 0.1634 - accuracy: 1.0000 - val_loss: 0.1043 - val_accuracy: 1.0000\n",
      "Epoch 14/30\n",
      "51/51 [==============================] - 52s 1s/step - loss: 0.1403 - accuracy: 1.0000 - val_loss: 0.1031 - val_accuracy: 1.0000\n",
      "Epoch 15/30\n",
      "51/51 [==============================] - 51s 1s/step - loss: 0.1263 - accuracy: 0.9950 - val_loss: 0.0843 - val_accuracy: 1.0000\n",
      "Epoch 16/30\n",
      "51/51 [==============================] - 50s 984ms/step - loss: 0.1021 - accuracy: 1.0000 - val_loss: 0.0744 - val_accuracy: 1.0000\n",
      "Epoch 17/30\n",
      "51/51 [==============================] - 49s 970ms/step - loss: 0.1156 - accuracy: 1.0000 - val_loss: 0.0656 - val_accuracy: 1.0000\n",
      "Epoch 18/30\n",
      "51/51 [==============================] - 49s 952ms/step - loss: 0.0882 - accuracy: 0.9949 - val_loss: 0.0614 - val_accuracy: 1.0000\n",
      "Epoch 19/30\n",
      "51/51 [==============================] - 111s 2s/step - loss: 0.0894 - accuracy: 1.0000 - val_loss: 0.0525 - val_accuracy: 1.0000\n",
      "Epoch 20/30\n",
      "51/51 [==============================] - 107s 2s/step - loss: 0.0820 - accuracy: 1.0000 - val_loss: 0.0530 - val_accuracy: 1.0000\n",
      "Epoch 21/30\n",
      "51/51 [==============================] - 111s 2s/step - loss: 0.0755 - accuracy: 0.9951 - val_loss: 0.0439 - val_accuracy: 1.0000\n",
      "Epoch 22/30\n",
      "51/51 [==============================] - 103s 2s/step - loss: 0.0690 - accuracy: 1.0000 - val_loss: 0.0391 - val_accuracy: 1.0000\n",
      "Epoch 23/30\n",
      "51/51 [==============================] - 106s 2s/step - loss: 0.0590 - accuracy: 1.0000 - val_loss: 0.0358 - val_accuracy: 1.0000\n",
      "Epoch 24/30\n",
      "51/51 [==============================] - 108s 2s/step - loss: 0.0625 - accuracy: 1.0000 - val_loss: 0.0324 - val_accuracy: 1.0000\n",
      "Epoch 25/30\n",
      "51/51 [==============================] - 106s 2s/step - loss: 0.0506 - accuracy: 1.0000 - val_loss: 0.0289 - val_accuracy: 1.0000\n",
      "Epoch 26/30\n",
      "51/51 [==============================] - 92s 2s/step - loss: 0.0473 - accuracy: 1.0000 - val_loss: 0.0270 - val_accuracy: 1.0000\n",
      "Epoch 27/30\n",
      "51/51 [==============================] - 86s 2s/step - loss: 0.0446 - accuracy: 1.0000 - val_loss: 0.0262 - val_accuracy: 1.0000\n",
      "Epoch 28/30\n",
      "51/51 [==============================] - 108s 2s/step - loss: 0.0447 - accuracy: 1.0000 - val_loss: 0.0231 - val_accuracy: 1.0000\n",
      "Epoch 29/30\n",
      "51/51 [==============================] - 91s 2s/step - loss: 0.0447 - accuracy: 1.0000 - val_loss: 0.0203 - val_accuracy: 1.0000\n",
      "Epoch 30/30\n",
      "51/51 [==============================] - 86s 2s/step - loss: 0.0399 - accuracy: 1.0000 - val_loss: 0.0187 - val_accuracy: 1.0000\n"
     ]
    }
   ],
   "source": [
    "history = model.fit(train,\n",
    "                    steps_per_epoch = len(Xtrain)//bs,\n",
    "                    validation_data = (Xvalid, yvalid),\n",
    "                    validation_steps = len(Xvalid)//bs,\n",
    "                    epochs = 30)"
   ]
  },
  {
   "cell_type": "code",
   "execution_count": 15,
   "metadata": {},
   "outputs": [
    {
     "name": "stdout",
     "output_type": "stream",
     "text": [
      "44/44 [==============================] - 15s 346ms/step\n",
      "Accuracy: 100.00%\n"
     ]
    }
   ],
   "source": [
    "_,eval_accuracy = model.evaluate(Xtest, ytest, batch_size=bs)\n",
    " \n",
    "print(\"Accuracy: {:.2f}%\".format(eval_accuracy * 100))"
   ]
  },
  {
   "cell_type": "code",
   "execution_count": 16,
   "metadata": {},
   "outputs": [
    {
     "data": {
      "image/png": "[encoded data removed]",
      "text/plain": [
       "<Figure size 432x288 with 1 Axes>"
      ]
     },
     "metadata": {
      "needs_background": "light"
     },
     "output_type": "display_data"
    }
   ],
   "source": [
    "plt.plot(history.history['loss'])  \n",
    "plt.plot(history.history['val_loss'])  \n",
    "plt.title('loss vs val_loss')  \n",
    "plt.ylabel('loss')  \n",
    "plt.xlabel('epoch')  \n",
    "plt.legend(['Train', 'Validation'], loc='upper right')\n",
    "plt.tight_layout()\n",
    "plt.show()"
   ]
  },
  {
   "cell_type": "code",
   "execution_count": 17,
   "metadata": {},
   "outputs": [
    {
     "data": {
      "text/plain": [
       "<matplotlib.legend.Legend at 0x1efbde6bc88>"
      ]
     },
     "execution_count": 17,
     "metadata": {},
     "output_type": "execute_result"
    },
    {
     "data": {
      "image/png": "[encoded data removed]",
      "text/plain": [
       "<Figure size 432x288 with 1 Axes>"
      ]
     },
     "metadata": {
      "needs_background": "light"
     },
     "output_type": "display_data"
    }
   ],
   "source": [
    "plt.plot(history.history['accuracy'])  \n",
    "plt.plot(history.history['val_accuracy'])  \n",
    "plt.title('accuracy vs val_accuracy')  \n",
    "plt.ylabel('accuracy')  \n",
    "plt.xlabel('epoch')  \n",
    "plt.legend(['Train', 'Validation'], loc='lower right')"
   ]
  },
  {
   "cell_type": "code",
   "execution_count": 24,
   "metadata": {},
   "outputs": [
    {
     "name": "stdout",
     "output_type": "stream",
     "text": [
      "flatten the image\n",
      "image.shape (150528, 1)\n",
      "reshape the image to be similar to the input feature vector\n",
      "image.shape (1, 224, 224, 3)\n"
     ]
    }
   ],
   "source": [
    "#predict the output of an image\n",
    "index=2\n",
    "image=Xtest[index]\n",
    "image=reshape_image_for_neural_network_input(image)"
   ]
  },
  {
   "cell_type": "code",
   "execution_count": 23,
   "metadata": {},
   "outputs": [],
   "source": [
    "def reshape_image_for_neural_network_input(image, IMAGE_SIZE=224):\n",
    "    print (\"flatten the image\")\n",
    "    image = np.reshape(image,[IMAGE_SIZE* IMAGE_SIZE*3,1])\n",
    "    print (\"image.shape\", image.shape)\n",
    "    print (\"reshape the image to be similar to the input feature vector\")\n",
    "    #image = np.reshape(image,[1,IMAGE_SIZE, IMAGE_SIZE,3]).astype('float')\n",
    "    image = image.reshape(1,IMAGE_SIZE,IMAGE_SIZE,3).astype('float')\n",
    "    print (\"image.shape\", image.shape)\n",
    "    return image"
   ]
  },
  {
   "cell_type": "code",
   "execution_count": 25,
   "metadata": {},
   "outputs": [
    {
     "name": "stdout",
     "output_type": "stream",
     "text": [
      "1/1 [==============================] - 0s 497ms/step\n",
      "true label:  [1. 0.]\n",
      "predicted label:  [[0.9728258  0.02717422]]\n"
     ]
    }
   ],
   "source": [
    "predProb=model.predict(image, verbose=1)\n",
    "print(\"true label: \", ytest[index])\n",
    "print(\"predicted label: \", predProb)"
   ]
  },
  {
   "cell_type": "code",
   "execution_count": 26,
   "metadata": {},
   "outputs": [
    {
     "name": "stdout",
     "output_type": "stream",
     "text": [
      "predicted label:  [0]\n"
     ]
    }
   ],
   "source": [
    "#for each image in the testing set we need to find the index of the label with corresponding largest predicted probability\n",
    "predIdx= np.argmax(predProb, axis=1)\n",
    "print(\"predicted label: \", predIdx)"
   ]
  },
  {
   "cell_type": "code",
   "execution_count": 27,
   "metadata": {},
   "outputs": [
    {
     "name": "stdout",
     "output_type": "stream",
     "text": [
      "44/44 [==============================] - 16s 366ms/step\n",
      "              precision    recall  f1-score   support\n",
      "\n",
      "           0       1.00      1.00      1.00        18\n",
      "           1       1.00      1.00      1.00        26\n",
      "\n",
      "    accuracy                           1.00        44\n",
      "   macro avg       1.00      1.00      1.00        44\n",
      "weighted avg       1.00      1.00      1.00        44\n",
      "\n"
     ]
    }
   ],
   "source": [
    "#confusion matrix tells us the performance of the model\n",
    "predProb2=model.predict(Xtest, verbose=1)\n",
    "\n",
    "#for each image in the testing set we need to find the index of the label with corresponding largest predicted probability\n",
    "predIdx2= np.argmax(predProb2, axis=1)\n",
    "\n",
    "from sklearn import datasets, svm, metrics\n",
    "print(metrics.classification_report(ytest.argmax(axis=1),predIdx2))"
   ]
  },
  {
   "cell_type": "code",
   "execution_count": 28,
   "metadata": {},
   "outputs": [
    {
     "name": "stdout",
     "output_type": "stream",
     "text": [
      "[[18  0]\n",
      " [ 0 26]]\n",
      "accuracy:  1.0\n",
      "sensitivity: 1.0\n",
      "specificity:  1.0\n"
     ]
    }
   ],
   "source": [
    "#accuracy, sensitivity, and specificity\n",
    "cm=metrics.confusion_matrix(ytest.argmax(axis=1),predIdx2)\n",
    "total=sum(sum(cm))\n",
    "acc=(cm[0,0]+cm[1,1])/total\n",
    "sensitivity=cm[0,0]/(cm[0,0]+cm[0,1])\n",
    "specificity=cm[1,1]/(cm[1,0]+cm[1,1])\n",
    "\n",
    "#show the confusion matrix, accuracy, sensitivity, and specificity\n",
    "print(cm)\n",
    "print(\"accuracy: \", acc)\n",
    "print(\"sensitivity:\", sensitivity)\n",
    "print(\"specificity: \", specificity)"
   ]
  },
  {
   "cell_type": "code",
   "execution_count": 29,
   "metadata": {},
   "outputs": [
    {
     "data": {
      "text/plain": [
       "<AxesSubplot:>"
      ]
     },
     "execution_count": 29,
     "metadata": {},
     "output_type": "execute_result"
    },
    {
     "data": {
      "image/png": "[encoded data removed]",
      "text/plain": [
       "<Figure size 432x288 with 2 Axes>"
      ]
     },
     "metadata": {
      "needs_background": "light"
     },
     "output_type": "display_data"
    }
   ],
   "source": [
    "#heatmap\n",
    "import seaborn as sns\n",
    "sns.heatmap(cm, cmap=\"plasma\", annot=True)"
   ]
  },
  {
   "cell_type": "code",
   "execution_count": null,
   "metadata": {},
   "outputs": [],
   "source": []
  }
 ],
 "metadata": {
  "kernelspec": {
   "display_name": "Python 3",
   "language": "python",
   "name": "python3"
  },
  "language_info": {
   "codemirror_mode": {
    "name": "ipython",
    "version": 3
   },
   "file_extension": ".py",
   "mimetype": "text/x-python",
   "name": "python",
   "nbconvert_exporter": "python",
   "pygments_lexer": "ipython3",
   "version": "3.7.9"
  }
 },
 "nbformat": 4,
 "nbformat_minor": 4
}
