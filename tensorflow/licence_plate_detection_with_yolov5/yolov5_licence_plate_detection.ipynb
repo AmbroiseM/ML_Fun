{
  "nbformat": 4,
  "nbformat_minor": 0,
  "metadata": {
    "colab": {
      "name": "yolov5_licence_plate_detection.ipynb",
      "provenance": [],
      "collapsed_sections": []
    },
    "kernelspec": {
      "name": "python3",
      "display_name": "Python 3"
    },
    "language_info": {
      "name": "python"
    },
    "accelerator": "GPU"
  },
  "cells": [
    {
      "cell_type": "code",
      "execution_count": null,
      "metadata": {
        "id": "ou-MET5jPTBN"
      },
      "outputs": [],
      "source": [
        "! pip install kaggle"
      ]
    },
    {
      "cell_type": "code",
      "source": [
        "from google.colab import files\n",
        "files.upload()"
      ],
      "metadata": {
        "id": "K6jd0RQ3ROyq"
      },
      "execution_count": null,
      "outputs": []
    },
    {
      "cell_type": "code",
      "source": [
        "! cp kaggle.json ~/.kaggle/"
      ],
      "metadata": {
        "id": "a3b6kUMtRzoD"
      },
      "execution_count": 6,
      "outputs": []
    },
    {
      "cell_type": "code",
      "source": [
        "! chmod 600 ~/.kaggle/kaggle.json"
      ],
      "metadata": {
        "id": "liYUue-eTQ0z"
      },
      "execution_count": 7,
      "outputs": []
    },
    {
      "cell_type": "code",
      "source": [
        "! kaggle datasets download andrewmvd/car-plate-detection"
      ],
      "metadata": {
        "colab": {
          "base_uri": "https://localhost:8080/"
        },
        "id": "NqVSjMFfTUia",
        "outputId": "f8c581d0-7514-4fc8-d7bb-0de8c8b90b1f"
      },
      "execution_count": 8,
      "outputs": [
        {
          "output_type": "stream",
          "name": "stdout",
          "text": [
            "Downloading car-plate-detection.zip to /content\n",
            " 99% 201M/203M [00:03<00:00, 64.2MB/s]\n",
            "100% 203M/203M [00:03<00:00, 63.1MB/s]\n"
          ]
        }
      ]
    },
    {
      "cell_type": "code",
      "source": [
        "!unzip /content/car-plate-detection.zip"
      ],
      "metadata": {
        "id": "FHKVFsNUVf8o"
      },
      "execution_count": null,
      "outputs": []
    },
    {
      "cell_type": "code",
      "source": [
        "import os\n",
        "from os import listdir\n",
        "from os.path import isfile, join\n",
        "\n",
        "image_path = '/content/images'\n",
        "images = [f.split('Cars')[1].split('.png')[0] for f in listdir(image_path) if isfile(join(image_path, f))]\n",
        "images = list(map(int,images))\n",
        "images.sort()\n",
        "images = ['Cars'+str(i)+'.xml' for i in images]"
      ],
      "metadata": {
        "id": "lRbp7_gbXSek"
      },
      "execution_count": 11,
      "outputs": []
    },
    {
      "cell_type": "code",
      "source": [
        "n_train = round(len(images)*0.7)\n",
        "train = images[:n_train]\n",
        "\n",
        "valid_1 = images[n_train:]\n",
        "\n",
        "n_test = round(len(valid_1)*0.7)\n",
        "valid = valid_1[:n_test]\n",
        "\n",
        "test = valid_1[n_test:]\n",
        "\n",
        "print(train)\n",
        "print(valid)\n",
        "print(test)"
      ],
      "metadata": {
        "colab": {
          "base_uri": "https://localhost:8080/"
        },
        "id": "pbIJXt1mYslO",
        "outputId": "98040086-a75f-4875-a814-49509bfe6069"
      },
      "execution_count": 12,
      "outputs": [
        {
          "output_type": "stream",
          "name": "stdout",
          "text": [
            "['Cars0.xml', 'Cars1.xml', 'Cars2.xml', 'Cars3.xml', 'Cars4.xml', 'Cars5.xml', 'Cars6.xml', 'Cars7.xml', 'Cars8.xml', 'Cars9.xml', 'Cars10.xml', 'Cars11.xml', 'Cars12.xml', 'Cars13.xml', 'Cars14.xml', 'Cars15.xml', 'Cars16.xml', 'Cars17.xml', 'Cars18.xml', 'Cars19.xml', 'Cars20.xml', 'Cars21.xml', 'Cars22.xml', 'Cars23.xml', 'Cars24.xml', 'Cars25.xml', 'Cars26.xml', 'Cars27.xml', 'Cars28.xml', 'Cars29.xml', 'Cars30.xml', 'Cars31.xml', 'Cars32.xml', 'Cars33.xml', 'Cars34.xml', 'Cars35.xml', 'Cars36.xml', 'Cars37.xml', 'Cars38.xml', 'Cars39.xml', 'Cars40.xml', 'Cars41.xml', 'Cars42.xml', 'Cars43.xml', 'Cars44.xml', 'Cars45.xml', 'Cars46.xml', 'Cars47.xml', 'Cars48.xml', 'Cars49.xml', 'Cars50.xml', 'Cars51.xml', 'Cars52.xml', 'Cars53.xml', 'Cars54.xml', 'Cars55.xml', 'Cars56.xml', 'Cars57.xml', 'Cars58.xml', 'Cars59.xml', 'Cars60.xml', 'Cars61.xml', 'Cars62.xml', 'Cars63.xml', 'Cars64.xml', 'Cars65.xml', 'Cars66.xml', 'Cars67.xml', 'Cars68.xml', 'Cars69.xml', 'Cars70.xml', 'Cars71.xml', 'Cars72.xml', 'Cars73.xml', 'Cars74.xml', 'Cars75.xml', 'Cars76.xml', 'Cars77.xml', 'Cars78.xml', 'Cars79.xml', 'Cars80.xml', 'Cars81.xml', 'Cars82.xml', 'Cars83.xml', 'Cars84.xml', 'Cars85.xml', 'Cars86.xml', 'Cars87.xml', 'Cars88.xml', 'Cars89.xml', 'Cars90.xml', 'Cars91.xml', 'Cars92.xml', 'Cars93.xml', 'Cars94.xml', 'Cars95.xml', 'Cars96.xml', 'Cars97.xml', 'Cars98.xml', 'Cars99.xml', 'Cars100.xml', 'Cars101.xml', 'Cars102.xml', 'Cars103.xml', 'Cars104.xml', 'Cars105.xml', 'Cars106.xml', 'Cars107.xml', 'Cars108.xml', 'Cars109.xml', 'Cars110.xml', 'Cars111.xml', 'Cars112.xml', 'Cars113.xml', 'Cars114.xml', 'Cars115.xml', 'Cars116.xml', 'Cars117.xml', 'Cars118.xml', 'Cars119.xml', 'Cars120.xml', 'Cars121.xml', 'Cars122.xml', 'Cars123.xml', 'Cars124.xml', 'Cars125.xml', 'Cars126.xml', 'Cars127.xml', 'Cars128.xml', 'Cars129.xml', 'Cars130.xml', 'Cars131.xml', 'Cars132.xml', 'Cars133.xml', 'Cars134.xml', 'Cars135.xml', 'Cars136.xml', 'Cars137.xml', 'Cars138.xml', 'Cars139.xml', 'Cars140.xml', 'Cars141.xml', 'Cars142.xml', 'Cars143.xml', 'Cars144.xml', 'Cars145.xml', 'Cars146.xml', 'Cars147.xml', 'Cars148.xml', 'Cars149.xml', 'Cars150.xml', 'Cars151.xml', 'Cars152.xml', 'Cars153.xml', 'Cars154.xml', 'Cars155.xml', 'Cars156.xml', 'Cars157.xml', 'Cars158.xml', 'Cars159.xml', 'Cars160.xml', 'Cars161.xml', 'Cars162.xml', 'Cars163.xml', 'Cars164.xml', 'Cars165.xml', 'Cars166.xml', 'Cars167.xml', 'Cars168.xml', 'Cars169.xml', 'Cars170.xml', 'Cars171.xml', 'Cars172.xml', 'Cars173.xml', 'Cars174.xml', 'Cars175.xml', 'Cars176.xml', 'Cars177.xml', 'Cars178.xml', 'Cars179.xml', 'Cars180.xml', 'Cars181.xml', 'Cars182.xml', 'Cars183.xml', 'Cars184.xml', 'Cars185.xml', 'Cars186.xml', 'Cars187.xml', 'Cars188.xml', 'Cars189.xml', 'Cars190.xml', 'Cars191.xml', 'Cars192.xml', 'Cars193.xml', 'Cars194.xml', 'Cars195.xml', 'Cars196.xml', 'Cars197.xml', 'Cars198.xml', 'Cars199.xml', 'Cars200.xml', 'Cars201.xml', 'Cars202.xml', 'Cars203.xml', 'Cars204.xml', 'Cars205.xml', 'Cars206.xml', 'Cars207.xml', 'Cars208.xml', 'Cars209.xml', 'Cars210.xml', 'Cars211.xml', 'Cars212.xml', 'Cars213.xml', 'Cars214.xml', 'Cars215.xml', 'Cars216.xml', 'Cars217.xml', 'Cars218.xml', 'Cars219.xml', 'Cars220.xml', 'Cars221.xml', 'Cars222.xml', 'Cars223.xml', 'Cars224.xml', 'Cars225.xml', 'Cars226.xml', 'Cars227.xml', 'Cars228.xml', 'Cars229.xml', 'Cars230.xml', 'Cars231.xml', 'Cars232.xml', 'Cars233.xml', 'Cars234.xml', 'Cars235.xml', 'Cars236.xml', 'Cars237.xml', 'Cars238.xml', 'Cars239.xml', 'Cars240.xml', 'Cars241.xml', 'Cars242.xml', 'Cars243.xml', 'Cars244.xml', 'Cars245.xml', 'Cars246.xml', 'Cars247.xml', 'Cars248.xml', 'Cars249.xml', 'Cars250.xml', 'Cars251.xml', 'Cars252.xml', 'Cars253.xml', 'Cars254.xml', 'Cars255.xml', 'Cars256.xml', 'Cars257.xml', 'Cars258.xml', 'Cars259.xml', 'Cars260.xml', 'Cars261.xml', 'Cars262.xml', 'Cars263.xml', 'Cars264.xml', 'Cars265.xml', 'Cars266.xml', 'Cars267.xml', 'Cars268.xml', 'Cars269.xml', 'Cars270.xml', 'Cars271.xml', 'Cars272.xml', 'Cars273.xml', 'Cars274.xml', 'Cars275.xml', 'Cars276.xml', 'Cars277.xml', 'Cars278.xml', 'Cars279.xml', 'Cars280.xml', 'Cars281.xml', 'Cars282.xml', 'Cars283.xml', 'Cars284.xml', 'Cars285.xml', 'Cars286.xml', 'Cars287.xml', 'Cars288.xml', 'Cars289.xml', 'Cars290.xml', 'Cars291.xml', 'Cars292.xml', 'Cars293.xml', 'Cars294.xml', 'Cars295.xml', 'Cars296.xml', 'Cars297.xml', 'Cars298.xml', 'Cars299.xml', 'Cars300.xml', 'Cars301.xml', 'Cars302.xml']\n",
            "['Cars303.xml', 'Cars304.xml', 'Cars305.xml', 'Cars306.xml', 'Cars307.xml', 'Cars308.xml', 'Cars309.xml', 'Cars310.xml', 'Cars311.xml', 'Cars312.xml', 'Cars313.xml', 'Cars314.xml', 'Cars315.xml', 'Cars316.xml', 'Cars317.xml', 'Cars318.xml', 'Cars319.xml', 'Cars320.xml', 'Cars321.xml', 'Cars322.xml', 'Cars323.xml', 'Cars324.xml', 'Cars325.xml', 'Cars326.xml', 'Cars327.xml', 'Cars328.xml', 'Cars329.xml', 'Cars330.xml', 'Cars331.xml', 'Cars332.xml', 'Cars333.xml', 'Cars334.xml', 'Cars335.xml', 'Cars336.xml', 'Cars337.xml', 'Cars338.xml', 'Cars339.xml', 'Cars340.xml', 'Cars341.xml', 'Cars342.xml', 'Cars343.xml', 'Cars344.xml', 'Cars345.xml', 'Cars346.xml', 'Cars347.xml', 'Cars348.xml', 'Cars349.xml', 'Cars350.xml', 'Cars351.xml', 'Cars352.xml', 'Cars353.xml', 'Cars354.xml', 'Cars355.xml', 'Cars356.xml', 'Cars357.xml', 'Cars358.xml', 'Cars359.xml', 'Cars360.xml', 'Cars361.xml', 'Cars362.xml', 'Cars363.xml', 'Cars364.xml', 'Cars365.xml', 'Cars366.xml', 'Cars367.xml', 'Cars368.xml', 'Cars369.xml', 'Cars370.xml', 'Cars371.xml', 'Cars372.xml', 'Cars373.xml', 'Cars374.xml', 'Cars375.xml', 'Cars376.xml', 'Cars377.xml', 'Cars378.xml', 'Cars379.xml', 'Cars380.xml', 'Cars381.xml', 'Cars382.xml', 'Cars383.xml', 'Cars384.xml', 'Cars385.xml', 'Cars386.xml', 'Cars387.xml', 'Cars388.xml', 'Cars389.xml', 'Cars390.xml', 'Cars391.xml', 'Cars392.xml', 'Cars393.xml']\n",
            "['Cars394.xml', 'Cars395.xml', 'Cars396.xml', 'Cars397.xml', 'Cars398.xml', 'Cars399.xml', 'Cars400.xml', 'Cars401.xml', 'Cars402.xml', 'Cars403.xml', 'Cars404.xml', 'Cars405.xml', 'Cars406.xml', 'Cars407.xml', 'Cars408.xml', 'Cars409.xml', 'Cars410.xml', 'Cars411.xml', 'Cars412.xml', 'Cars413.xml', 'Cars414.xml', 'Cars415.xml', 'Cars416.xml', 'Cars417.xml', 'Cars418.xml', 'Cars419.xml', 'Cars420.xml', 'Cars421.xml', 'Cars422.xml', 'Cars423.xml', 'Cars424.xml', 'Cars425.xml', 'Cars426.xml', 'Cars427.xml', 'Cars428.xml', 'Cars429.xml', 'Cars430.xml', 'Cars431.xml', 'Cars432.xml']\n"
          ]
        }
      ]
    },
    {
      "cell_type": "code",
      "source": [
        "\"\"\"\n",
        "\n",
        "├───images\n",
        "│   ├───train\n",
        "│   └───valid\n",
        "│   └───test\n",
        "└───label\n",
        "    ├───train\n",
        "    └───valid\n",
        "    └───test\n",
        "  \n",
        "\"\"\""
      ],
      "metadata": {
        "id": "_Cbhj7a0dAeZ"
      },
      "execution_count": null,
      "outputs": []
    },
    {
      "cell_type": "code",
      "source": [
        "from pathlib import Path\n",
        "\n",
        "data = [train, valid, test]\n",
        "xml_files_path = '/content/annotations'\n",
        "dirs = ['/content/images/train', '/content/images/valid', '/content/images/test']\n",
        "\n",
        "for i, new_path  in enumerate(dirs):\n",
        "    \n",
        "    if not os.path.exists(new_path):\n",
        "        os.makedirs(new_path)\n",
        "    \n",
        "    for xml_file in data[i]:\n",
        "        img_file = xml_file.split('.xml')[0] + '.png'\n",
        "        Path(image_path + '/' + img_file).rename(new_path + '/'+ img_file)\n",
        "        Path(xml_files_path + '/' + xml_file).rename(new_path + '/'+ xml_file)"
      ],
      "metadata": {
        "id": "_7Q8hjLZZZfR"
      },
      "execution_count": 13,
      "outputs": []
    },
    {
      "cell_type": "markdown",
      "source": [
        "**voc to yolo format**"
      ],
      "metadata": {
        "id": "wBUvX8O6gs7h"
      }
    },
    {
      "cell_type": "code",
      "source": [
        "import glob\n",
        "import os\n",
        "import pickle\n",
        "import xml.etree.ElementTree as ET\n",
        "from os import listdir, getcwd\n",
        "from os.path import join\n",
        "\n",
        "dirs = ['/content/images/test',\n",
        "        '/content/images/train',\n",
        "        '/content/images/valid']\n",
        "\n",
        "classes = ['licence']\n",
        "\n",
        "def getImagesInDir(dir_path):\n",
        "    image_list = []\n",
        "    for filename in glob.glob(dir_path + '/*.png'):\n",
        "        image_list.append(filename)\n",
        "\n",
        "    return image_list\n",
        "\n",
        "def convert(size, box):\n",
        "    dw = 1./(size[0])\n",
        "    dh = 1./(size[1])\n",
        "    x = (box[0] + box[1])/2.0 - 1\n",
        "    y = (box[2] + box[3])/2.0 - 1\n",
        "    w = box[1] - box[0]\n",
        "    h = box[3] - box[2]\n",
        "    x = x*dw\n",
        "    w = w*dw\n",
        "    y = y*dh\n",
        "    h = h*dh\n",
        "    return (x,y,w,h)\n",
        "\n",
        "def convert_annotation(dir_path, output_path, image_path):\n",
        "    basename = os.path.basename(image_path)\n",
        "    basename_no_ext = os.path.splitext(basename)[0]\n",
        "\n",
        "    in_file = open(dir_path + '/' + basename_no_ext + '.xml')\n",
        "    out_file = open(output_path + basename_no_ext + '.txt', 'w')\n",
        "    tree = ET.parse(in_file)\n",
        "    root = tree.getroot()\n",
        "    size = root.find('size')\n",
        "    w = int(size.find('width').text)\n",
        "    h = int(size.find('height').text)\n",
        "    \n",
        "    \n",
        "\n",
        "    for obj in root.iter('object'):\n",
        "        difficult = obj.find('difficult').text\n",
        "        cls = obj.find('name').text\n",
        "        if cls not in classes or int(difficult)==1:\n",
        "            continue\n",
        "        cls_id = classes.index(cls)\n",
        "        xmlbox = obj.find('bndbox')\n",
        "        b = (float(xmlbox.find('xmin').text), float(xmlbox.find('xmax').text), float(xmlbox.find('ymin').text), float(xmlbox.find('ymax').text))\n",
        "        bb = convert((w,h), b)\n",
        "        out_file.write(str(cls_id) + \" \" + \" \".join([str(a) for a in bb]) + '\\n')"
      ],
      "metadata": {
        "id": "HcFp7WX0gse3"
      },
      "execution_count": 14,
      "outputs": []
    },
    {
      "cell_type": "code",
      "source": [
        "import glob\n",
        "import os\n",
        "import pickle\n",
        "import xml.etree.ElementTree as ET\n",
        "from os import listdir, getcwd\n",
        "from os.path import join\n",
        "\n",
        "label_dirs = ['/content/label/test/',\n",
        "        '/content/label/train/',\n",
        "        '/content/label/valid/']\n",
        "\n",
        "\n",
        "for dir_path, label_dir in zip(dirs,label_dirs):\n",
        "    full_dir_path = dir_path\n",
        "    output_path = label_dir\n",
        "   \n",
        "    if not os.path.exists(output_path):\n",
        "        os.makedirs(output_path)\n",
        "\n",
        "    image_paths = getImagesInDir(full_dir_path)\n",
        "    list_file = open(full_dir_path + '.txt', 'w')\n",
        "\n",
        "    for image_path in image_paths:\n",
        "        list_file.write(image_path + '\\n')\n",
        "        convert_annotation(full_dir_path, output_path, image_path)\n",
        "    list_file.close()\n",
        "\n",
        "    print(\"Finished processing: \" + dir_path)\n"
      ],
      "metadata": {
        "colab": {
          "base_uri": "https://localhost:8080/"
        },
        "id": "tIK1zeqshY2i",
        "outputId": "f9a8415a-55f6-447e-a6d6-2f426ffec36a"
      },
      "execution_count": 15,
      "outputs": [
        {
          "output_type": "stream",
          "name": "stdout",
          "text": [
            "Finished processing: /content/images/test\n",
            "Finished processing: /content/images/train\n",
            "Finished processing: /content/images/valid\n"
          ]
        }
      ]
    },
    {
      "cell_type": "code",
      "source": [
        "!git clone https://github.com/ultralytics/yolov5  # clone\n",
        "%cd yolov5\n",
        "%pip install -qr requirements.txt  # install\n",
        "\n",
        "import torch\n",
        "from yolov5 import utils\n",
        "display = utils.notebook_init()  # checks"
      ],
      "metadata": {
        "colab": {
          "base_uri": "https://localhost:8080/"
        },
        "id": "2aLom9nHkS6k",
        "outputId": "2d7afa29-8d67-4271-c8df-928431e2deb6"
      },
      "execution_count": 16,
      "outputs": [
        {
          "output_type": "stream",
          "name": "stderr",
          "text": [
            "YOLOv5 🚀 v6.0-174-g7b31a53 torch 1.10.0+cu111 CUDA:0 (Tesla K80, 11441MiB)\n"
          ]
        },
        {
          "output_type": "stream",
          "name": "stdout",
          "text": [
            "Setup complete ✅ (2 CPUs, 12.7 GB RAM, 42.4/78.2 GB disk)\n"
          ]
        }
      ]
    },
    {
      "cell_type": "code",
      "source": [
        "!python train.py --img 640 --batch 8 --epochs 30 --data coco128.yaml --weights yolov5s.pt --cache"
      ],
      "metadata": {
        "colab": {
          "base_uri": "https://localhost:8080/"
        },
        "id": "fHAc_vAIlnoN",
        "outputId": "17298ec7-5e12-440d-f583-1aa6b06596b3"
      },
      "execution_count": 19,
      "outputs": [
        {
          "output_type": "stream",
          "name": "stdout",
          "text": [
            "\u001b[34m\u001b[1mtrain: \u001b[0mweights=yolov5s.pt, cfg=, data=coco128.yaml, hyp=data/hyps/hyp.scratch.yaml, epochs=30, batch_size=8, imgsz=640, rect=False, resume=False, nosave=False, noval=False, noautoanchor=False, evolve=None, bucket=, cache=ram, image_weights=False, device=, multi_scale=False, single_cls=False, optimizer=SGD, sync_bn=False, workers=8, project=runs/train, name=exp, exist_ok=False, quad=False, linear_lr=False, label_smoothing=0.0, patience=100, freeze=[0], save_period=-1, local_rank=-1, entity=None, upload_dataset=False, bbox_interval=-1, artifact_alias=latest\n",
            "\u001b[34m\u001b[1mgithub: \u001b[0mup to date with https://github.com/ultralytics/yolov5 ✅\n",
            "YOLOv5 🚀 v6.0-174-g7b31a53 torch 1.10.0+cu111 CUDA:0 (Tesla K80, 11441MiB)\n",
            "\n",
            "\u001b[34m\u001b[1mhyperparameters: \u001b[0mlr0=0.01, lrf=0.1, momentum=0.937, weight_decay=0.0005, warmup_epochs=3.0, warmup_momentum=0.8, warmup_bias_lr=0.1, box=0.05, cls=0.5, cls_pw=1.0, obj=1.0, obj_pw=1.0, iou_t=0.2, anchor_t=4.0, fl_gamma=0.0, hsv_h=0.015, hsv_s=0.7, hsv_v=0.4, degrees=0.0, translate=0.1, scale=0.5, shear=0.0, perspective=0.0, flipud=0.0, fliplr=0.5, mosaic=1.0, mixup=0.0, copy_paste=0.0\n",
            "\u001b[34m\u001b[1mWeights & Biases: \u001b[0mrun 'pip install wandb' to automatically track and visualize YOLOv5 🚀 runs (RECOMMENDED)\n",
            "\u001b[34m\u001b[1mTensorBoard: \u001b[0mStart with 'tensorboard --logdir runs/train', view at http://localhost:6006/\n",
            "Overriding model.yaml nc=80 with nc=1\n",
            "\n",
            "                 from  n    params  module                                  arguments                     \n",
            "  0                -1  1      3520  models.common.Conv                      [3, 32, 6, 2, 2]              \n",
            "  1                -1  1     18560  models.common.Conv                      [32, 64, 3, 2]                \n",
            "  2                -1  1     18816  models.common.C3                        [64, 64, 1]                   \n",
            "  3                -1  1     73984  models.common.Conv                      [64, 128, 3, 2]               \n",
            "  4                -1  2    115712  models.common.C3                        [128, 128, 2]                 \n",
            "  5                -1  1    295424  models.common.Conv                      [128, 256, 3, 2]              \n",
            "  6                -1  3    625152  models.common.C3                        [256, 256, 3]                 \n",
            "  7                -1  1   1180672  models.common.Conv                      [256, 512, 3, 2]              \n",
            "  8                -1  1   1182720  models.common.C3                        [512, 512, 1]                 \n",
            "  9                -1  1    656896  models.common.SPPF                      [512, 512, 5]                 \n",
            " 10                -1  1    131584  models.common.Conv                      [512, 256, 1, 1]              \n",
            " 11                -1  1         0  torch.nn.modules.upsampling.Upsample    [None, 2, 'nearest']          \n",
            " 12           [-1, 6]  1         0  models.common.Concat                    [1]                           \n",
            " 13                -1  1    361984  models.common.C3                        [512, 256, 1, False]          \n",
            " 14                -1  1     33024  models.common.Conv                      [256, 128, 1, 1]              \n",
            " 15                -1  1         0  torch.nn.modules.upsampling.Upsample    [None, 2, 'nearest']          \n",
            " 16           [-1, 4]  1         0  models.common.Concat                    [1]                           \n",
            " 17                -1  1     90880  models.common.C3                        [256, 128, 1, False]          \n",
            " 18                -1  1    147712  models.common.Conv                      [128, 128, 3, 2]              \n",
            " 19          [-1, 14]  1         0  models.common.Concat                    [1]                           \n",
            " 20                -1  1    296448  models.common.C3                        [256, 256, 1, False]          \n",
            " 21                -1  1    590336  models.common.Conv                      [256, 256, 3, 2]              \n",
            " 22          [-1, 10]  1         0  models.common.Concat                    [1]                           \n",
            " 23                -1  1   1182720  models.common.C3                        [512, 512, 1, False]          \n",
            " 24      [17, 20, 23]  1     16182  models.yolo.Detect                      [1, [[10, 13, 16, 30, 33, 23], [30, 61, 62, 45, 59, 119], [116, 90, 156, 198, 373, 326]], [128, 256, 512]]\n",
            "Model Summary: 270 layers, 7022326 parameters, 7022326 gradients, 15.8 GFLOPs\n",
            "\n",
            "Transferred 343/349 items from yolov5s.pt\n",
            "Scaled weight_decay = 0.0005\n",
            "\u001b[34m\u001b[1moptimizer:\u001b[0m SGD with parameter groups 57 weight, 60 weight (no decay), 60 bias\n",
            "\u001b[34m\u001b[1malbumentations: \u001b[0mversion 1.0.3 required by YOLOv5, but version 0.1.12 is currently installed\n",
            "\u001b[34m\u001b[1mtrain: \u001b[0mScanning '/content/labels/train.cache' images and labels... 303 found, 0 missing, 0 empty, 0 corrupted: 100% 303/303 [00:00<?, ?it/s]\n",
            "\u001b[34m\u001b[1mtrain: \u001b[0mCaching images (0.2GB ram): 100% 303/303 [00:03<00:00, 81.47it/s]\n",
            "\u001b[34m\u001b[1mval: \u001b[0mScanning '/content/labels/valid.cache' images and labels... 91 found, 0 missing, 0 empty, 0 corrupted: 100% 91/91 [00:00<?, ?it/s]\n",
            "\u001b[34m\u001b[1mval: \u001b[0mCaching images (0.1GB ram): 100% 91/91 [00:01<00:00, 59.99it/s]\n",
            "Plotting labels to runs/train/exp3/labels.jpg... \n",
            "\n",
            "\u001b[34m\u001b[1mAutoAnchor: \u001b[0m4.05 anchors/target, 1.000 Best Possible Recall (BPR). Current anchors are a good fit to dataset ✅\n",
            "Image sizes 640 train, 640 val\n",
            "Using 2 dataloader workers\n",
            "Logging results to \u001b[1mruns/train/exp3\u001b[0m\n",
            "Starting training for 30 epochs...\n",
            "\n",
            "     Epoch   gpu_mem       box       obj       cls    labels  img_size\n",
            "      0/29     1.73G    0.1157   0.02708         0        15       640: 100% 38/38 [00:36<00:00,  1.05it/s]\n",
            "               Class     Images     Labels          P          R     mAP@.5 mAP@.5:.95: 100% 6/6 [00:03<00:00,  1.90it/s]\n",
            "                 all         91         99     0.0145     0.0202    0.00196    0.00034\n",
            "\n",
            "     Epoch   gpu_mem       box       obj       cls    labels  img_size\n",
            "      1/29     2.34G   0.09976   0.02428         0        14       640: 100% 38/38 [00:34<00:00,  1.11it/s]\n",
            "               Class     Images     Labels          P          R     mAP@.5 mAP@.5:.95: 100% 6/6 [00:02<00:00,  2.17it/s]\n",
            "                 all         91         99    0.00509      0.101    0.00227   0.000413\n",
            "\n",
            "     Epoch   gpu_mem       box       obj       cls    labels  img_size\n",
            "      2/29     2.34G   0.09053   0.02325         0        11       640: 100% 38/38 [00:33<00:00,  1.12it/s]\n",
            "               Class     Images     Labels          P          R     mAP@.5 mAP@.5:.95: 100% 6/6 [00:02<00:00,  2.34it/s]\n",
            "                 all         91         99     0.0138      0.333    0.00768    0.00209\n",
            "\n",
            "     Epoch   gpu_mem       box       obj       cls    labels  img_size\n",
            "      3/29     2.34G   0.07842    0.0224         0        13       640: 100% 38/38 [00:33<00:00,  1.12it/s]\n",
            "               Class     Images     Labels          P          R     mAP@.5 mAP@.5:.95: 100% 6/6 [00:02<00:00,  2.43it/s]\n",
            "                 all         91         99      0.384      0.364      0.284     0.0851\n",
            "\n",
            "     Epoch   gpu_mem       box       obj       cls    labels  img_size\n",
            "      4/29     2.34G   0.07144    0.0224         0        17       640: 100% 38/38 [00:34<00:00,  1.12it/s]\n",
            "               Class     Images     Labels          P          R     mAP@.5 mAP@.5:.95: 100% 6/6 [00:02<00:00,  2.48it/s]\n",
            "                 all         91         99      0.655      0.475      0.523      0.173\n",
            "\n",
            "     Epoch   gpu_mem       box       obj       cls    labels  img_size\n",
            "      5/29     2.34G   0.06378   0.02138         0        19       640: 100% 38/38 [00:33<00:00,  1.12it/s]\n",
            "               Class     Images     Labels          P          R     mAP@.5 mAP@.5:.95: 100% 6/6 [00:02<00:00,  2.57it/s]\n",
            "                 all         91         99      0.549      0.576      0.458      0.132\n",
            "\n",
            "     Epoch   gpu_mem       box       obj       cls    labels  img_size\n",
            "      6/29     2.34G   0.06068    0.0193         0        16       640: 100% 38/38 [00:33<00:00,  1.12it/s]\n",
            "               Class     Images     Labels          P          R     mAP@.5 mAP@.5:.95: 100% 6/6 [00:02<00:00,  2.64it/s]\n",
            "                 all         91         99      0.734      0.646      0.654      0.279\n",
            "\n",
            "     Epoch   gpu_mem       box       obj       cls    labels  img_size\n",
            "      7/29     2.34G   0.05838   0.01769         0        16       640: 100% 38/38 [00:33<00:00,  1.12it/s]\n",
            "               Class     Images     Labels          P          R     mAP@.5 mAP@.5:.95: 100% 6/6 [00:02<00:00,  2.66it/s]\n",
            "                 all         91         99      0.666      0.626      0.614      0.166\n",
            "\n",
            "     Epoch   gpu_mem       box       obj       cls    labels  img_size\n",
            "      8/29     2.34G   0.05683   0.01727         0        15       640: 100% 38/38 [00:33<00:00,  1.12it/s]\n",
            "               Class     Images     Labels          P          R     mAP@.5 mAP@.5:.95: 100% 6/6 [00:02<00:00,  2.70it/s]\n",
            "                 all         91         99       0.64      0.687      0.618      0.226\n",
            "\n",
            "     Epoch   gpu_mem       box       obj       cls    labels  img_size\n",
            "      9/29     2.34G   0.05648   0.01674         0        15       640: 100% 38/38 [00:33<00:00,  1.12it/s]\n",
            "               Class     Images     Labels          P          R     mAP@.5 mAP@.5:.95: 100% 6/6 [00:02<00:00,  2.73it/s]\n",
            "                 all         91         99      0.634      0.667      0.632      0.223\n",
            "\n",
            "     Epoch   gpu_mem       box       obj       cls    labels  img_size\n",
            "     10/29     2.34G   0.05406   0.01604         0        17       640: 100% 38/38 [00:33<00:00,  1.13it/s]\n",
            "               Class     Images     Labels          P          R     mAP@.5 mAP@.5:.95: 100% 6/6 [00:02<00:00,  2.76it/s]\n",
            "                 all         91         99      0.578      0.707      0.562      0.138\n",
            "\n",
            "     Epoch   gpu_mem       box       obj       cls    labels  img_size\n",
            "     11/29     2.34G   0.05123   0.01477         0         9       640: 100% 38/38 [00:33<00:00,  1.13it/s]\n",
            "               Class     Images     Labels          P          R     mAP@.5 mAP@.5:.95: 100% 6/6 [00:02<00:00,  2.81it/s]\n",
            "                 all         91         99      0.799      0.768       0.81      0.329\n",
            "\n",
            "     Epoch   gpu_mem       box       obj       cls    labels  img_size\n",
            "     12/29     2.34G   0.05178    0.0148         0        17       640: 100% 38/38 [00:33<00:00,  1.13it/s]\n",
            "               Class     Images     Labels          P          R     mAP@.5 mAP@.5:.95: 100% 6/6 [00:02<00:00,  2.81it/s]\n",
            "                 all         91         99      0.836      0.727      0.801      0.309\n",
            "\n",
            "     Epoch   gpu_mem       box       obj       cls    labels  img_size\n",
            "     13/29     2.34G   0.05051    0.0142         0        13       640: 100% 38/38 [00:33<00:00,  1.13it/s]\n",
            "               Class     Images     Labels          P          R     mAP@.5 mAP@.5:.95: 100% 6/6 [00:02<00:00,  2.83it/s]\n",
            "                 all         91         99       0.76      0.736      0.749      0.276\n",
            "\n",
            "     Epoch   gpu_mem       box       obj       cls    labels  img_size\n",
            "     14/29     2.34G   0.04928   0.01284         0        16       640: 100% 38/38 [00:33<00:00,  1.13it/s]\n",
            "               Class     Images     Labels          P          R     mAP@.5 mAP@.5:.95: 100% 6/6 [00:02<00:00,  2.83it/s]\n",
            "                 all         91         99      0.883      0.687      0.781      0.309\n",
            "\n",
            "     Epoch   gpu_mem       box       obj       cls    labels  img_size\n",
            "     15/29     2.34G   0.04565   0.01372         0        10       640: 100% 38/38 [00:33<00:00,  1.13it/s]\n",
            "               Class     Images     Labels          P          R     mAP@.5 mAP@.5:.95: 100% 6/6 [00:02<00:00,  2.85it/s]\n",
            "                 all         91         99      0.871      0.817      0.865      0.457\n",
            "\n",
            "     Epoch   gpu_mem       box       obj       cls    labels  img_size\n",
            "     16/29     2.34G   0.04466   0.01311         0        15       640: 100% 38/38 [00:33<00:00,  1.13it/s]\n",
            "               Class     Images     Labels          P          R     mAP@.5 mAP@.5:.95: 100% 6/6 [00:02<00:00,  2.86it/s]\n",
            "                 all         91         99      0.703      0.838      0.728      0.319\n",
            "\n",
            "     Epoch   gpu_mem       box       obj       cls    labels  img_size\n",
            "     17/29     2.34G   0.04581   0.01215         0        12       640: 100% 38/38 [00:33<00:00,  1.13it/s]\n",
            "               Class     Images     Labels          P          R     mAP@.5 mAP@.5:.95: 100% 6/6 [00:02<00:00,  2.87it/s]\n",
            "                 all         91         99        0.8      0.806      0.853      0.398\n",
            "\n",
            "     Epoch   gpu_mem       box       obj       cls    labels  img_size\n",
            "     18/29     2.34G   0.04374   0.01197         0        12       640: 100% 38/38 [00:33<00:00,  1.13it/s]\n",
            "               Class     Images     Labels          P          R     mAP@.5 mAP@.5:.95: 100% 6/6 [00:02<00:00,  2.86it/s]\n",
            "                 all         91         99      0.964      0.808      0.932      0.458\n",
            "\n",
            "     Epoch   gpu_mem       box       obj       cls    labels  img_size\n",
            "     19/29     2.34G   0.04071   0.01169         0        15       640: 100% 38/38 [00:33<00:00,  1.13it/s]\n",
            "               Class     Images     Labels          P          R     mAP@.5 mAP@.5:.95: 100% 6/6 [00:02<00:00,  2.87it/s]\n",
            "                 all         91         99      0.847      0.838      0.913      0.468\n",
            "\n",
            "     Epoch   gpu_mem       box       obj       cls    labels  img_size\n",
            "     20/29     2.34G   0.04374   0.01151         0        20       640: 100% 38/38 [00:33<00:00,  1.13it/s]\n",
            "               Class     Images     Labels          P          R     mAP@.5 mAP@.5:.95: 100% 6/6 [00:02<00:00,  2.86it/s]\n",
            "                 all         91         99      0.864      0.838      0.904      0.409\n",
            "\n",
            "     Epoch   gpu_mem       box       obj       cls    labels  img_size\n",
            "     21/29     2.34G   0.04032   0.01139         0        12       640: 100% 38/38 [00:33<00:00,  1.13it/s]\n",
            "               Class     Images     Labels          P          R     mAP@.5 mAP@.5:.95: 100% 6/6 [00:02<00:00,  2.85it/s]\n",
            "                 all         91         99      0.846      0.778      0.818      0.354\n",
            "\n",
            "     Epoch   gpu_mem       box       obj       cls    labels  img_size\n",
            "     22/29     2.34G   0.04407   0.01136         0        14       640: 100% 38/38 [00:33<00:00,  1.13it/s]\n",
            "               Class     Images     Labels          P          R     mAP@.5 mAP@.5:.95: 100% 6/6 [00:02<00:00,  2.88it/s]\n",
            "                 all         91         99      0.933      0.838       0.92      0.502\n",
            "\n",
            "     Epoch   gpu_mem       box       obj       cls    labels  img_size\n",
            "     23/29     2.34G   0.03631   0.01139         0        13       640: 100% 38/38 [00:33<00:00,  1.13it/s]\n",
            "               Class     Images     Labels          P          R     mAP@.5 mAP@.5:.95: 100% 6/6 [00:02<00:00,  2.86it/s]\n",
            "                 all         91         99      0.931      0.818      0.898      0.477\n",
            "\n",
            "     Epoch   gpu_mem       box       obj       cls    labels  img_size\n",
            "     24/29     2.34G   0.03641   0.01041         0        15       640: 100% 38/38 [00:33<00:00,  1.13it/s]\n",
            "               Class     Images     Labels          P          R     mAP@.5 mAP@.5:.95: 100% 6/6 [00:02<00:00,  2.87it/s]\n",
            "                 all         91         99      0.925      0.869      0.891      0.488\n",
            "\n",
            "     Epoch   gpu_mem       box       obj       cls    labels  img_size\n",
            "     25/29     2.34G    0.0356  0.009979         0        12       640: 100% 38/38 [00:33<00:00,  1.13it/s]\n",
            "               Class     Images     Labels          P          R     mAP@.5 mAP@.5:.95: 100% 6/6 [00:02<00:00,  2.88it/s]\n",
            "                 all         91         99      0.911      0.929      0.936      0.521\n",
            "\n",
            "     Epoch   gpu_mem       box       obj       cls    labels  img_size\n",
            "     26/29     2.34G   0.03363   0.01012         0        13       640: 100% 38/38 [00:33<00:00,  1.13it/s]\n",
            "               Class     Images     Labels          P          R     mAP@.5 mAP@.5:.95: 100% 6/6 [00:02<00:00,  2.87it/s]\n",
            "                 all         91         99      0.909      0.909      0.938       0.54\n",
            "\n",
            "     Epoch   gpu_mem       box       obj       cls    labels  img_size\n",
            "     27/29     2.34G   0.03304  0.009525         0        13       640: 100% 38/38 [00:33<00:00,  1.13it/s]\n",
            "               Class     Images     Labels          P          R     mAP@.5 mAP@.5:.95: 100% 6/6 [00:02<00:00,  2.85it/s]\n",
            "                 all         91         99      0.911      0.929      0.958      0.522\n",
            "\n",
            "     Epoch   gpu_mem       box       obj       cls    labels  img_size\n",
            "     28/29     2.34G   0.03271  0.009538         0        18       640: 100% 38/38 [00:33<00:00,  1.12it/s]\n",
            "               Class     Images     Labels          P          R     mAP@.5 mAP@.5:.95: 100% 6/6 [00:02<00:00,  2.86it/s]\n",
            "                 all         91         99      0.909      0.909       0.93      0.532\n",
            "\n",
            "     Epoch   gpu_mem       box       obj       cls    labels  img_size\n",
            "     29/29     2.34G    0.0323  0.009402         0        10       640: 100% 38/38 [00:33<00:00,  1.12it/s]\n",
            "               Class     Images     Labels          P          R     mAP@.5 mAP@.5:.95: 100% 6/6 [00:02<00:00,  2.89it/s]\n",
            "                 all         91         99      0.934      0.859      0.908      0.509\n",
            "\n",
            "30 epochs completed in 0.305 hours.\n",
            "Optimizer stripped from runs/train/exp3/weights/last.pt, 14.5MB\n",
            "Optimizer stripped from runs/train/exp3/weights/best.pt, 14.5MB\n",
            "\n",
            "Validating runs/train/exp3/weights/best.pt...\n",
            "Fusing layers... \n",
            "Model Summary: 213 layers, 7012822 parameters, 0 gradients, 15.8 GFLOPs\n",
            "               Class     Images     Labels          P          R     mAP@.5 mAP@.5:.95: 100% 6/6 [00:03<00:00,  1.74it/s]\n",
            "                 all         91         99      0.909      0.909      0.937      0.539\n",
            "Results saved to \u001b[1mruns/train/exp3\u001b[0m\n"
          ]
        }
      ]
    }
  ]
}